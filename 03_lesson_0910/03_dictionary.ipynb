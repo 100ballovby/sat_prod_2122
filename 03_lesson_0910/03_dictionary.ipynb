{
 "cells": [
  {
   "cell_type": "markdown",
   "metadata": {
    "collapsed": true
   },
   "source": [
    "## Словари\n",
    "\n",
    "<p>Словарь - это набор пар <code>ключ-значение</code>, заключенные в фигурные скобки. Каждая пара разделена запятой, разделитель ключа и значения - <code>:</code>.</p>"
   ]
  },
  {
   "cell_type": "code",
   "execution_count": 6,
   "metadata": {},
   "outputs": [],
   "source": [
    "shop = {\n",
    "    'banana': 2.95,\n",
    "    'milk': 1.99,\n",
    "    'samokat': 256.34,\n",
    "    'orange': 9.99,\n",
    "}"
   ]
  },
  {
   "cell_type": "markdown",
   "metadata": {},
   "source": [
    "<p>В словарях нет индексов. потому что обращение к значению происходит по ключу.</p>"
   ]
  },
  {
   "cell_type": "code",
   "execution_count": 2,
   "metadata": {},
   "outputs": [
    {
     "name": "stdout",
     "output_type": "stream",
     "text": [
      "1.99\n"
     ]
    }
   ],
   "source": [
    "print(shop['milk'])"
   ]
  },
  {
   "cell_type": "code",
   "execution_count": 8,
   "metadata": {},
   "outputs": [
    {
     "ename": "KeyError",
     "evalue": "0",
     "output_type": "error",
     "traceback": [
      "\u001B[0;31m---------------------------------------------------------------------------\u001B[0m",
      "\u001B[0;31mKeyError\u001B[0m                                  Traceback (most recent call last)",
      "\u001B[0;32m/var/folders/kg/wys5qw45109bn_kq6647wwzw0000gn/T/ipykernel_2683/2424435401.py\u001B[0m in \u001B[0;36m<module>\u001B[0;34m\u001B[0m\n\u001B[0;32m----> 1\u001B[0;31m \u001B[0mprint\u001B[0m\u001B[0;34m(\u001B[0m\u001B[0mshop\u001B[0m\u001B[0;34m[\u001B[0m\u001B[0;36m0\u001B[0m\u001B[0;34m]\u001B[0m\u001B[0;34m)\u001B[0m  \u001B[0;31m# ключа 0 нет, индексов тоже нет, обращаться так нельзя\u001B[0m\u001B[0;34m\u001B[0m\u001B[0;34m\u001B[0m\u001B[0m\n\u001B[0m",
      "\u001B[0;31mKeyError\u001B[0m: 0"
     ]
    }
   ],
   "source": [
    "print(shop[0])  # ключа 0 нет, индексов тоже нет, обращаться так нельзя"
   ]
  },
  {
   "cell_type": "markdown",
   "metadata": {},
   "source": [
    "## Методы\n",
    "\n",
    "<p>В основном методы словарей нужны для перебора их в цикле.</p>"
   ]
  },
  {
   "cell_type": "code",
   "execution_count": 10,
   "metadata": {},
   "outputs": [
    {
     "name": "stdout",
     "output_type": "stream",
     "text": [
      "banana\n",
      "milk\n",
      "samokat\n",
      "orange\n"
     ]
    }
   ],
   "source": [
    "for key in shop.keys():\n",
    "    print(key)"
   ]
  },
  {
   "cell_type": "markdown",
   "metadata": {},
   "source": [
    "<p><code>.keys()</code> - возвращает все ключи словаря.</p>"
   ]
  },
  {
   "cell_type": "code",
   "execution_count": 11,
   "metadata": {},
   "outputs": [
    {
     "name": "stdout",
     "output_type": "stream",
     "text": [
      "2.95\n",
      "1.99\n",
      "256.34\n",
      "9.99\n"
     ]
    }
   ],
   "source": [
    "for value in shop.values():\n",
    "    print(value)"
   ]
  },
  {
   "cell_type": "markdown",
   "metadata": {},
   "source": [
    "<p><code>.values()</code> возвращает все значения словаря.</p>"
   ]
  },
  {
   "cell_type": "code",
   "execution_count": 12,
   "metadata": {},
   "outputs": [
    {
     "name": "stdout",
     "output_type": "stream",
     "text": [
      "Key: banana\n",
      "Value: 2.95\n",
      "Key: milk\n",
      "Value: 1.99\n",
      "Key: samokat\n",
      "Value: 256.34\n",
      "Key: orange\n",
      "Value: 9.99\n"
     ]
    }
   ],
   "source": [
    "for key, value in shop.items():\n",
    "    print(f'Key: {key}\\nValue: {value}')"
   ]
  },
  {
   "cell_type": "markdown",
   "metadata": {},
   "source": [
    "<p><code>.items()</code> - возвращает ключи и значения</p>"
   ]
  },
  {
   "cell_type": "markdown",
   "metadata": {},
   "source": [
    "## Добавление элемента\n",
    "\n",
    "<p>Чтобы добавить новую пару в словарь, надо написать новый ключ и сразу же присвоить им значение.</p>"
   ]
  },
  {
   "cell_type": "code",
   "execution_count": 13,
   "metadata": {},
   "outputs": [
    {
     "name": "stdout",
     "output_type": "stream",
     "text": [
      "{'banana': 2.95, 'milk': 1.99, 'samokat': 256.34, 'orange': 9.99, 'grape': 4.99}\n"
     ]
    }
   ],
   "source": [
    "shop['grape'] = 4.99\n",
    "\n",
    "print(shop)"
   ]
  },
  {
   "cell_type": "markdown",
   "metadata": {},
   "source": [
    "## Замена элемента\n",
    "\n",
    "<p>Чтобы заменить элемент, надо написать существующий ключ и присвоить ему новое значение.</p>"
   ]
  },
  {
   "cell_type": "code",
   "execution_count": 14,
   "metadata": {},
   "outputs": [
    {
     "name": "stdout",
     "output_type": "stream",
     "text": [
      "{'banana': 2.95, 'milk': 4.56, 'samokat': 256.34, 'orange': 9.99, 'grape': 4.99}\n"
     ]
    }
   ],
   "source": [
    "shop['milk'] = 4.56\n",
    "print(shop)"
   ]
  },
  {
   "cell_type": "code",
   "execution_count": 17,
   "metadata": {},
   "outputs": [
    {
     "name": "stdout",
     "output_type": "stream",
     "text": [
      "True\n"
     ]
    }
   ],
   "source": [
    "family = {\n",
    "    'Mother',\n",
    "    'Father',\n",
    "    'Sister',\n",
    "    'Brother',\n",
    "}\n",
    "\n",
    "print('Sister' in family)"
   ]
  },
  {
   "cell_type": "code",
   "execution_count": null,
   "metadata": {},
   "outputs": [],
   "source": []
  }
 ],
 "metadata": {
  "kernelspec": {
   "display_name": "Python 3 (ipykernel)",
   "language": "python",
   "name": "python3"
  },
  "language_info": {
   "codemirror_mode": {
    "name": "ipython",
    "version": 3
   },
   "file_extension": ".py",
   "mimetype": "text/x-python",
   "name": "python",
   "nbconvert_exporter": "python",
   "pygments_lexer": "ipython3",
   "version": "3.7.7"
  }
 },
 "nbformat": 4,
 "nbformat_minor": 1
}