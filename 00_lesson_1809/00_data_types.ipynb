{
 "cells": [
  {
   "cell_type": "markdown",
   "metadata": {
    "collapsed": true
   },
   "source": [
    "## Типы даных и переменные\n",
    "\n",
    "<p>В Python тип данных принадлежит не переменной, а объекту, на который эта переменная ссылается.</p>"
   ]
  },
  {
   "cell_type": "code",
   "execution_count": 1,
   "metadata": {},
   "outputs": [],
   "source": [
    "x = 8  # int\n",
    "y = '4'  # str\n",
    "z = 2.43  # float\n",
    "a = '9.124'  # str\n",
    "b = 'five'  # str"
   ]
  },
  {
   "cell_type": "markdown",
   "metadata": {},
   "source": [
    "<p>Python позволяет приводить типы. Для этого есть 4 функции:</p>\n",
    "\n",
    "<ul>\n",
    "    <li><code>int(x)</code> - приводит объект х к типу <code>int</code></li>\n",
    "    <li><code>float(x)</code> - приводит объект х к типу <code>float</code></li>\n",
    "    <li><code>str(x)</code> - приводит объект х к типу <code>str</code></li>\n",
    "    <li><code>bool(x)</code> - приводит объект х к типу <code>bool</code></li>\n",
    "</ul>"
   ]
  },
  {
   "cell_type": "code",
   "execution_count": 4,
   "metadata": {},
   "outputs": [
    {
     "name": "stdout",
     "output_type": "stream",
     "text": [
      "4\n"
     ]
    }
   ],
   "source": [
    "print(int(y))"
   ]
  },
  {
   "cell_type": "code",
   "execution_count": 6,
   "metadata": {},
   "outputs": [
    {
     "name": "stdout",
     "output_type": "stream",
     "text": [
      "2\n"
     ]
    }
   ],
   "source": [
    "print(int(z))  # здесь нет округления, просто убирается дробная часть"
   ]
  },
  {
   "cell_type": "code",
   "execution_count": 9,
   "metadata": {},
   "outputs": [
    {
     "name": "stdout",
     "output_type": "stream",
     "text": [
      "9\n"
     ]
    }
   ],
   "source": [
    "# print(int(a))  строчные десятичные дроби нельзя привести в целое число\n",
    "print( int( float(a) ) )"
   ]
  },
  {
   "cell_type": "code",
   "execution_count": 11,
   "metadata": {},
   "outputs": [
    {
     "name": "stdout",
     "output_type": "stream",
     "text": [
      "1\n",
      "0\n"
     ]
    }
   ],
   "source": [
    "print(int(True))  # 1\n",
    "print(int(False))  # 0"
   ]
  },
  {
   "cell_type": "code",
   "execution_count": 12,
   "metadata": {},
   "outputs": [
    {
     "ename": "ValueError",
     "evalue": "invalid literal for int() with base 10: 'five'",
     "output_type": "error",
     "traceback": [
      "\u001B[0;31m---------------------------------------------------------------------------\u001B[0m",
      "\u001B[0;31mValueError\u001B[0m                                Traceback (most recent call last)",
      "\u001B[0;32m/var/folders/kg/wys5qw45109bn_kq6647wwzw0000gn/T/ipykernel_1951/1920884800.py\u001B[0m in \u001B[0;36m<module>\u001B[0;34m\u001B[0m\n\u001B[0;32m----> 1\u001B[0;31m \u001B[0mprint\u001B[0m\u001B[0;34m(\u001B[0m\u001B[0mint\u001B[0m\u001B[0;34m(\u001B[0m\u001B[0mb\u001B[0m\u001B[0;34m)\u001B[0m\u001B[0;34m)\u001B[0m\u001B[0;34m\u001B[0m\u001B[0;34m\u001B[0m\u001B[0m\n\u001B[0m",
      "\u001B[0;31mValueError\u001B[0m: invalid literal for int() with base 10: 'five'"
     ]
    }
   ],
   "source": [
    "print(int(b))"
   ]
  },
  {
   "cell_type": "code",
   "execution_count": 13,
   "metadata": {},
   "outputs": [],
   "source": [
    "x = 8  # int\n",
    "y = '4'  # str\n",
    "z = 2.43  # float\n",
    "a = '9.124'  # str\n",
    "b = 'five'  # str"
   ]
  },
  {
   "cell_type": "code",
   "execution_count": 14,
   "metadata": {},
   "outputs": [
    {
     "name": "stdout",
     "output_type": "stream",
     "text": [
      "8.0\n"
     ]
    }
   ],
   "source": [
    "print(float(x))"
   ]
  },
  {
   "cell_type": "code",
   "execution_count": 15,
   "metadata": {},
   "outputs": [
    {
     "name": "stdout",
     "output_type": "stream",
     "text": [
      "4.0\n"
     ]
    }
   ],
   "source": [
    "print(float(y))"
   ]
  },
  {
   "cell_type": "code",
   "execution_count": 16,
   "metadata": {},
   "outputs": [
    {
     "name": "stdout",
     "output_type": "stream",
     "text": [
      "9.124\n"
     ]
    }
   ],
   "source": [
    "print(float(a))"
   ]
  },
  {
   "cell_type": "code",
   "execution_count": 17,
   "metadata": {},
   "outputs": [
    {
     "name": "stdout",
     "output_type": "stream",
     "text": [
      "True\n",
      "False\n"
     ]
    }
   ],
   "source": [
    "print(bool(1))  # True\n",
    "print(bool(0))  # False"
   ]
  },
  {
   "cell_type": "code",
   "execution_count": 18,
   "metadata": {},
   "outputs": [
    {
     "name": "stdout",
     "output_type": "stream",
     "text": [
      "True\n",
      "True\n"
     ]
    }
   ],
   "source": [
    "print(bool(32452))  # True\n",
    "print(bool(-8))  # True"
   ]
  },
  {
   "cell_type": "markdown",
   "metadata": {},
   "source": [
    "<p>Функция <code>bool()</code> будет выдавать <code>True</code> в любом случае, если объект, который вы ей передаете - это не 0. Если 0, будет <code>False</code>.</p>"
   ]
  },
  {
   "cell_type": "code",
   "execution_count": 32,
   "metadata": {},
   "outputs": [
    {
     "name": "stdout",
     "output_type": "stream",
     "text": [
      "Введи число: 2.3\n",
      "5.289999999999999\n"
     ]
    }
   ],
   "source": [
    "n1 = float(input('Введи число: '))\n",
    "\n",
    "print(n1 ** 2)"
   ]
  },
  {
   "cell_type": "markdown",
   "metadata": {},
   "source": [
    "## Строчки\n",
    "\n",
    "<p>Строкой в программировании называют любое сочетание символов, взятое в кавычки. Тип кавычек не имеет значения. Можно использовать <code>' '</code> и <code>\" \"</code>. Строчка должна начинаться и заканчиваться одним типом кавычек.</p>"
   ]
  },
  {
   "cell_type": "code",
   "execution_count": 75,
   "metadata": {},
   "outputs": [],
   "source": [
    "date = '2021-09-15 Z 09:25'\n",
    "article = 'Apple представила iPhone 13, Watch Series 7 и два iPad'\n",
    "blanks = '       текст с пробелами вокруг                    '"
   ]
  },
  {
   "cell_type": "markdown",
   "metadata": {},
   "source": [
    "<p>У строк есть методы.</p>\n",
    "<ul>\n",
    "    <li><code>.lower()</code> приводит все символы в строке в нижний регистр;</li>\n",
    "    <li><code>.upper()</code> приводит все символы в строке в верхний регистр;</li>\n",
    "    <li><code>.islower()</code> проверяет, являются ли символы в строке маленькими;</li>\n",
    "    <li><code>.islower()</code> проверяет, являются ли символы в строке большими;</li>\n",
    "    <li><code>.isdigit()</code> проверяет, являются ли символы в строке маленькими;</li>\n",
    "    <li><code>.replace(a, b)</code> заменяет символ <code>a</code> в строке на символ <code>b</code></li>\n",
    "    <li><code>.strip()</code> убирает пробелы по краям строки;</li>\n",
    "    <li>Срезы строк. <code>'Мама мыла раму. Где мама?'[0:4] -> 'Мама'</code></li>\n",
    "</ul>\n",
    "\n",
    "## Программа 1. Очистить дату от лишних символов.\n",
    "\n",
    "<p>Есть дата, записанная в неправильном формате - <code>'YYYY-MM-DD z HH:MM'</code>. Нужно убрать символ z и сохранить дату в правильном формате.</p>"
   ]
  },
  {
   "cell_type": "code",
   "execution_count": 62,
   "metadata": {},
   "outputs": [
    {
     "name": "stdout",
     "output_type": "stream",
     "text": [
      "Так выглядело изначально: 2021-09-15 Z 09:25\n",
      "Так выглядит в конце: 2021-09-15 09:25\n"
     ]
    }
   ],
   "source": [
    "print(f'Так выглядело изначально: {date}')\n",
    "\n",
    "clear_date = date[:11] + date[-5:]\n",
    "\n",
    "print(f'Так выглядит в конце: {clear_date}')"
   ]
  },
  {
   "cell_type": "markdown",
   "metadata": {},
   "source": [
    "## Программа 2. Замена символов.\n",
    "\n",
    "<p>Есть строка. Надо заменить названия компании в строке на другое название.</p>"
   ]
  },
  {
   "cell_type": "code",
   "execution_count": 73,
   "metadata": {},
   "outputs": [
    {
     "name": "stdout",
     "output_type": "stream",
     "text": [
      "New article: \"Xiaomi представила iPhone 13, Watch Series 7 и два iPad\".\n"
     ]
    }
   ],
   "source": [
    "new_article = article.replace('Apple', 'Xiaomi')\n",
    "print(f'New article: \"{new_article}\".')"
   ]
  },
  {
   "cell_type": "markdown",
   "metadata": {},
   "source": [
    "## Программа 3. Убрать пробелы по краям\n",
    "\n",
    "<p>В строке есть лишние пробелы в начале и в конце. А, возможно, их нет. А, возможно, они только с одной стороны строки. Но во всех случаях пробелы нужно убрать. Пробелов может быть любое количество.</p>"
   ]
  },
  {
   "cell_type": "code",
   "execution_count": 79,
   "metadata": {},
   "outputs": [
    {
     "name": "stdout",
     "output_type": "stream",
     "text": [
      "Строка выглядит так: \"текст с пробелами вокруг\".\n",
      "А теперь так: \"текст с пробелами вокруг\".\n"
     ]
    }
   ],
   "source": [
    "print(f'Строка выглядит так: \"{blanks}\".')\n",
    "blanks = blanks.strip()  \n",
    "# убирает пробелы вокруг строки (в любом количестве) \n",
    "print(f'А теперь так: \"{blanks}\".')"
   ]
  },
  {
   "cell_type": "code",
   "execution_count": 81,
   "metadata": {},
   "outputs": [
    {
     "name": "stdout",
     "output_type": "stream",
     "text": [
      "Привет, Андрей! Зачем ты плюнул в голубей?\n"
     ]
    }
   ],
   "source": [
    "blanks2 = 'Привет,  Андрей!  Зачем ты плюнул в  голубей?'\n",
    "print(blanks2.replace('  ', ' '))"
   ]
  },
  {
   "cell_type": "code",
   "execution_count": null,
   "metadata": {},
   "outputs": [],
   "source": []
  }
 ],
 "metadata": {
  "kernelspec": {
   "display_name": "Python 3 (ipykernel)",
   "language": "python",
   "name": "python3"
  },
  "language_info": {
   "codemirror_mode": {
    "name": "ipython",
    "version": 3
   },
   "file_extension": ".py",
   "mimetype": "text/x-python",
   "name": "python",
   "nbconvert_exporter": "python",
   "pygments_lexer": "ipython3",
   "version": "3.7.7"
  }
 },
 "nbformat": 4,
 "nbformat_minor": 1
}